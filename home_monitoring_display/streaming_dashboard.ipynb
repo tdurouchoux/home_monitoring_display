{
 "cells": [
  {
   "cell_type": "code",
   "execution_count": 1,
   "metadata": {},
   "outputs": [],
   "source": [
    "import os\n",
    "\n",
    "import panel as pn\n",
    "\n",
    "from home_monitoring_display.utils import load_config\n",
    "from home_monitoring_display.query_influxdb import InfluxDBConnector\n",
    "from home_monitoring_display.indicator_factory import IndicatorFactory"
   ]
  },
  {
   "cell_type": "code",
   "execution_count": 2,
   "metadata": {},
   "outputs": [],
   "source": [
    "conf_directory = os.path.abspath('../conf')\n",
    "\n",
    "conf = load_config(os.path.join(conf_directory, 'streaming_config.yaml'))\n",
    "connectors_conf = load_config(os.path.join(conf_directory, 'connectors_config.yaml'))"
   ]
  },
  {
   "cell_type": "code",
   "execution_count": 3,
   "metadata": {},
   "outputs": [],
   "source": [
    "influxdb_connectors = {name: InfluxDBConnector(**config) for name, config in connectors_conf.items()}"
   ]
  },
  {
   "cell_type": "code",
   "execution_count": 4,
   "metadata": {},
   "outputs": [],
   "source": [
    "indicator_factory = IndicatorFactory(**conf[\"indicators_parameters\"])"
   ]
  },
  {
   "cell_type": "code",
   "execution_count": 5,
   "metadata": {},
   "outputs": [
    {
     "name": "stdout",
     "output_type": "stream",
     "text": [
      "5000\n",
      "5000\n",
      "300000\n",
      "60000\n",
      "60000\n",
      "60000\n"
     ]
    }
   ],
   "source": [
    "layout_list = []\n",
    "\n",
    "for layout_config in conf[\"layouts\"]:\n",
    "    indicator_list = []\n",
    "    influxdb_connector = influxdb_connectors[layout_config[\"influxdb_connector\"]]\n",
    "\n",
    "    for indicator_config in layout_config[\"indicators\"]:\n",
    "        indicator_config_copy = indicator_config.copy()\n",
    "        del indicator_config_copy[\"type\"]\n",
    "\n",
    "        if indicator_config[\"type\"] == \"trend\":\n",
    "            indicator_list.append(\n",
    "                indicator_factory.create_trend(\n",
    "                    influxdb_connector, **indicator_config_copy\n",
    "                )\n",
    "            )\n",
    "        elif indicator_config[\"type\"] == \"number\":\n",
    "            indicator_list.append(\n",
    "                indicator_factory.create_number(\n",
    "                    influxdb_connector, **indicator_config_copy\n",
    "                )\n",
    "            )\n",
    "        elif indicator_config[\"type\"] == \"gauge\":\n",
    "            indicator_list.append(\n",
    "                indicator_factory.create_gauge(\n",
    "                    influxdb_connector, **indicator_config_copy\n",
    "                )\n",
    "            )\n",
    "        else:\n",
    "            raise ValueError(\n",
    "                f\"Indicator type should either be 'trend' or 'number', got : {indicator_config['type']}\"\n",
    "            )\n",
    "\n",
    "    layout_list.append(\n",
    "        pn.Card(\n",
    "            pn.Row(*indicator_list),\n",
    "            title=layout_config[\"title\"],\n",
    "            sizing_mode=\"stretch_both\",\n",
    "            collapsible=False,\n",
    "        )\n",
    "    )\n"
   ]
  },
  {
   "cell_type": "code",
   "execution_count": null,
   "metadata": {},
   "outputs": [],
   "source": [
    "template = pn.template.FastListTemplate(title=conf[\"title\"], main=layout_list, main_layout='')\n",
    "template.servable()"
   ]
  }
 ],
 "metadata": {
  "kernelspec": {
   "display_name": "py39_hmd",
   "language": "python",
   "name": "python3"
  },
  "language_info": {
   "codemirror_mode": {
    "name": "ipython",
    "version": 3
   },
   "file_extension": ".py",
   "mimetype": "text/x-python",
   "name": "python",
   "nbconvert_exporter": "python",
   "pygments_lexer": "ipython3",
   "version": "3.9.16"
  },
  "orig_nbformat": 4
 },
 "nbformat": 4,
 "nbformat_minor": 2
}
