{
 "cells": [
  {
   "cell_type": "code",
   "execution_count": 1,
   "metadata": {},
   "outputs": [],
   "source": [
    "import os\n",
    "from home_monitoring_display.utils import load_config"
   ]
  },
  {
   "cell_type": "code",
   "execution_count": 2,
   "metadata": {},
   "outputs": [],
   "source": [
    "conf = load_config(os.path.abspath('../conf/streaming_config.yaml'))"
   ]
  },
  {
   "cell_type": "code",
   "execution_count": 271,
   "metadata": {},
   "outputs": [],
   "source": [
    "client_conf = conf[\"influxdb_connectors\"][\"homemonitor\"]"
   ]
  },
  {
   "cell_type": "code",
   "execution_count": 272,
   "metadata": {},
   "outputs": [],
   "source": [
    "measurement = \"bme688\"\n",
    "field = \"temperature\"\n",
    "start = \"7d\"\n",
    "stop = \"now()\""
   ]
  },
  {
   "cell_type": "code",
   "execution_count": 291,
   "metadata": {},
   "outputs": [],
   "source": [
    "client_conf = conf[\"influxdb_connectors\"][\"pi\"]"
   ]
  },
  {
   "cell_type": "code",
   "execution_count": 292,
   "metadata": {},
   "outputs": [],
   "source": [
    "measurement = \"teleinfo\"\n",
    "field = \"PAPP\"\n",
    "start = \"7d\"\n",
    "stop = \"now()\""
   ]
  },
  {
   "cell_type": "markdown",
   "metadata": {},
   "source": [
    "# Test influxdb_client"
   ]
  },
  {
   "cell_type": "code",
   "execution_count": 6,
   "metadata": {},
   "outputs": [],
   "source": [
    "import influxdb_client as idb"
   ]
  },
  {
   "cell_type": "code",
   "execution_count": 7,
   "metadata": {},
   "outputs": [],
   "source": [
    "client1 = idb.InfluxDBClient(\n",
    "                url=f\"http://{client_conf['host']}:8086\",\n",
    "                token=f\"{client_conf['username']}:{client_conf['password']}\",\n",
    "                org=\"-\",\n",
    "                timeout=200_000\n",
    "            )\n",
    "\n",
    "query_api = client1.query_api()"
   ]
  },
  {
   "attachments": {},
   "cell_type": "markdown",
   "metadata": {},
   "source": [
    "time for bme688.temperature :"
   ]
  },
  {
   "cell_type": "code",
   "execution_count": 82,
   "metadata": {},
   "outputs": [
    {
     "name": "stdout",
     "output_type": "stream",
     "text": [
      "2.41 s ± 147 ms per loop (mean ± std. dev. of 7 runs, 1 loop each)\n"
     ]
    }
   ],
   "source": [
    "%%timeit\n",
    "query1 = f\"\"\"from(bucket: \"{client_conf['database']}/autogen\")\n",
    "                    |> range(start: {start}, stop: {stop})\n",
    "                    |> filter(fn: (r) => r._measurement == \"{measurement}\")\n",
    "                    |> filter(fn: (r) => r._field == \"{field}\")\n",
    "                    |> pivot(rowKey:[\"_time\"], columnKey: [\"_field\"], valueColumn: \"_value\")\n",
    "                    |> keep(columns: [\"_time\", \"{field}\"])\"\"\"\n",
    "                    \n",
    "df_query1 = query_api.query_data_frame(query1, data_frame_index=[\"_time\"])"
   ]
  },
  {
   "attachments": {},
   "cell_type": "markdown",
   "metadata": {},
   "source": [
    "time for teleinfo.PAPP : "
   ]
  },
  {
   "cell_type": "code",
   "execution_count": null,
   "metadata": {},
   "outputs": [],
   "source": [
    "%%timeit\n",
    "query1 = f\"\"\"from(bucket: \"{client_conf['database']}/autogen\")\n",
    "                    |> range(start: {start}, stop: {stop})\n",
    "                    |> filter(fn: (r) => r._measurement == \"{measurement}\")\n",
    "                    |> filter(fn: (r) => r._field == \"{field}\")\n",
    "                    |> pivot(rowKey:[\"_time\"], columnKey: [\"_field\"], valueColumn: \"_value\")\n",
    "                    |> keep(columns: [\"_time\", \"{field}\"])\"\"\"\n",
    "                    \n",
    "df_query1 = query_api.query_data_frame(query1, data_frame_index=[\"_time\"])"
   ]
  },
  {
   "cell_type": "code",
   "execution_count": 9,
   "metadata": {},
   "outputs": [
    {
     "name": "stdout",
     "output_type": "stream",
     "text": [
      "CPU times: user 40.1 s, sys: 626 ms, total: 40.7 s\n",
      "Wall time: 1min 2s\n"
     ]
    }
   ],
   "source": [
    "%%time\n",
    "query1 = f\"\"\"from(bucket: \"{client_conf['database']}/autogen\")\n",
    "                    |> range(start: {start}, stop: {stop})\n",
    "                    |> filter(fn: (r) => r._measurement == \"{measurement}\")\n",
    "                    |> filter(fn: (r) => r._field == \"{field}\")\n",
    "                    |> pivot(rowKey:[\"_time\"], columnKey: [\"_field\"], valueColumn: \"_value\")\n",
    "                    |> keep(columns: [\"_time\", \"{field}\"])\"\"\"\n",
    "                    \n",
    "df_query1 = query_api.query_data_frame(query1, data_frame_index=[\"_time\"])"
   ]
  },
  {
   "cell_type": "code",
   "execution_count": 26,
   "metadata": {},
   "outputs": [
    {
     "ename": "ApiException",
     "evalue": "(500)\nReason: Internal Server Error\nHTTP response headers: HTTPHeaderDict({'Content-Type': 'text/csv; charset=utf-8', 'Request-Id': '99fabd91-da2f-11ed-a866-b827eb20b9db', 'X-Influxdb-Build': 'OSS', 'X-Influxdb-Error': 'panic: runtime error: invalid memory address or nil pointer dereference', 'X-Influxdb-Version': '1.8.10', 'X-Request-Id': '99fabd91-da2f-11ed-a866-b827eb20b9db', 'Date': 'Thu, 13 Apr 2023 19:17:23 GMT', 'Transfer-Encoding': 'chunked'})\nHTTP response body: b'{\"error\":\"panic: runtime error: invalid memory address or nil pointer dereference\"}\\n'\n",
     "output_type": "error",
     "traceback": [
      "\u001b[0;31m---------------------------------------------------------------------------\u001b[0m",
      "\u001b[0;31mApiException\u001b[0m                              Traceback (most recent call last)",
      "File \u001b[0;32m<timed exec>:8\u001b[0m\n",
      "File \u001b[0;32m~/opt/anaconda3/envs/py39_hmd/lib/python3.9/site-packages/influxdb_client/client/query_api.py:203\u001b[0m, in \u001b[0;36mQueryApi.query\u001b[0;34m(self, query, org, params)\u001b[0m\n\u001b[1;32m    128\u001b[0m \u001b[39m\u001b[39m\u001b[39m\"\"\"Execute synchronous Flux query and return result as a :class:`~influxdb_client.client.flux_table.FluxTable` list.\u001b[39;00m\n\u001b[1;32m    129\u001b[0m \n\u001b[1;32m    130\u001b[0m \u001b[39m:param query: the Flux query\u001b[39;00m\n\u001b[0;32m   (...)\u001b[0m\n\u001b[1;32m    199\u001b[0m \u001b[39m    ]\u001b[39;00m\n\u001b[1;32m    200\u001b[0m \u001b[39m\"\"\"\u001b[39;00m  \u001b[39m# noqa: E501\u001b[39;00m\n\u001b[1;32m    201\u001b[0m org \u001b[39m=\u001b[39m \u001b[39mself\u001b[39m\u001b[39m.\u001b[39m_org_param(org)\n\u001b[0;32m--> 203\u001b[0m response \u001b[39m=\u001b[39m \u001b[39mself\u001b[39;49m\u001b[39m.\u001b[39;49m_query_api\u001b[39m.\u001b[39;49mpost_query(org\u001b[39m=\u001b[39;49morg, query\u001b[39m=\u001b[39;49m\u001b[39mself\u001b[39;49m\u001b[39m.\u001b[39;49m_create_query(query, \u001b[39mself\u001b[39;49m\u001b[39m.\u001b[39;49mdefault_dialect, params),\n\u001b[1;32m    204\u001b[0m                                       async_req\u001b[39m=\u001b[39;49m\u001b[39mFalse\u001b[39;49;00m, _preload_content\u001b[39m=\u001b[39;49m\u001b[39mFalse\u001b[39;49;00m, _return_http_data_only\u001b[39m=\u001b[39;49m\u001b[39mFalse\u001b[39;49;00m)\n\u001b[1;32m    206\u001b[0m \u001b[39mreturn\u001b[39;00m \u001b[39mself\u001b[39m\u001b[39m.\u001b[39m_to_tables(response, query_options\u001b[39m=\u001b[39m\u001b[39mself\u001b[39m\u001b[39m.\u001b[39m_get_query_options())\n",
      "File \u001b[0;32m~/opt/anaconda3/envs/py39_hmd/lib/python3.9/site-packages/influxdb_client/service/query_service.py:279\u001b[0m, in \u001b[0;36mQueryService.post_query\u001b[0;34m(self, **kwargs)\u001b[0m\n\u001b[1;32m    277\u001b[0m     \u001b[39mreturn\u001b[39;00m \u001b[39mself\u001b[39m\u001b[39m.\u001b[39mpost_query_with_http_info(\u001b[39m*\u001b[39m\u001b[39m*\u001b[39mkwargs)  \u001b[39m# noqa: E501\u001b[39;00m\n\u001b[1;32m    278\u001b[0m \u001b[39melse\u001b[39;00m:\n\u001b[0;32m--> 279\u001b[0m     (data) \u001b[39m=\u001b[39m \u001b[39mself\u001b[39;49m\u001b[39m.\u001b[39;49mpost_query_with_http_info(\u001b[39m*\u001b[39;49m\u001b[39m*\u001b[39;49mkwargs)  \u001b[39m# noqa: E501\u001b[39;00m\n\u001b[1;32m    280\u001b[0m     \u001b[39mreturn\u001b[39;00m data\n",
      "File \u001b[0;32m~/opt/anaconda3/envs/py39_hmd/lib/python3.9/site-packages/influxdb_client/service/query_service.py:305\u001b[0m, in \u001b[0;36mQueryService.post_query_with_http_info\u001b[0;34m(self, **kwargs)\u001b[0m\n\u001b[1;32m    283\u001b[0m \u001b[39m\u001b[39m\u001b[39m\"\"\"Query data.\u001b[39;00m\n\u001b[1;32m    284\u001b[0m \n\u001b[1;32m    285\u001b[0m \u001b[39mRetrieves data from buckets.  Use this endpoint to send a Flux query request and retreive data from a bucket.  #### Rate limits (with InfluxDB Cloud)  `read` rate limits apply. For more information, see [limits and adjustable quotas](https://docs.influxdata.com/influxdb/cloud/account-management/limits/).  #### Related guides  - [Query with the InfluxDB API](https://docs.influxdata.com/influxdb/v2.2/query-data/execute-queries/influx-api/). - [Get started with Flux](https://docs.influxdata.com/flux/v0.x/get-started/)\u001b[39;00m\n\u001b[0;32m   (...)\u001b[0m\n\u001b[1;32m    300\u001b[0m \u001b[39m         returns the request thread.\u001b[39;00m\n\u001b[1;32m    301\u001b[0m \u001b[39m\"\"\"\u001b[39;00m  \u001b[39m# noqa: E501\u001b[39;00m\n\u001b[1;32m    302\u001b[0m local_var_params, path_params, query_params, header_params, body_params \u001b[39m=\u001b[39m \\\n\u001b[1;32m    303\u001b[0m     \u001b[39mself\u001b[39m\u001b[39m.\u001b[39m_post_query_prepare(\u001b[39m*\u001b[39m\u001b[39m*\u001b[39mkwargs)\n\u001b[0;32m--> 305\u001b[0m \u001b[39mreturn\u001b[39;00m \u001b[39mself\u001b[39;49m\u001b[39m.\u001b[39;49mapi_client\u001b[39m.\u001b[39;49mcall_api(\n\u001b[1;32m    306\u001b[0m     \u001b[39m'\u001b[39;49m\u001b[39m/api/v2/query\u001b[39;49m\u001b[39m'\u001b[39;49m, \u001b[39m'\u001b[39;49m\u001b[39mPOST\u001b[39;49m\u001b[39m'\u001b[39;49m,\n\u001b[1;32m    307\u001b[0m     path_params,\n\u001b[1;32m    308\u001b[0m     query_params,\n\u001b[1;32m    309\u001b[0m     header_params,\n\u001b[1;32m    310\u001b[0m     body\u001b[39m=\u001b[39;49mbody_params,\n\u001b[1;32m    311\u001b[0m     post_params\u001b[39m=\u001b[39;49m[],\n\u001b[1;32m    312\u001b[0m     files\u001b[39m=\u001b[39;49m{},\n\u001b[1;32m    313\u001b[0m     response_type\u001b[39m=\u001b[39;49m\u001b[39m'\u001b[39;49m\u001b[39mstr\u001b[39;49m\u001b[39m'\u001b[39;49m,  \u001b[39m# noqa: E501\u001b[39;49;00m\n\u001b[1;32m    314\u001b[0m     auth_settings\u001b[39m=\u001b[39;49m[],\n\u001b[1;32m    315\u001b[0m     async_req\u001b[39m=\u001b[39;49mlocal_var_params\u001b[39m.\u001b[39;49mget(\u001b[39m'\u001b[39;49m\u001b[39masync_req\u001b[39;49m\u001b[39m'\u001b[39;49m),\n\u001b[1;32m    316\u001b[0m     _return_http_data_only\u001b[39m=\u001b[39;49mlocal_var_params\u001b[39m.\u001b[39;49mget(\u001b[39m'\u001b[39;49m\u001b[39m_return_http_data_only\u001b[39;49m\u001b[39m'\u001b[39;49m),  \u001b[39m# noqa: E501\u001b[39;49;00m\n\u001b[1;32m    317\u001b[0m     _preload_content\u001b[39m=\u001b[39;49mlocal_var_params\u001b[39m.\u001b[39;49mget(\u001b[39m'\u001b[39;49m\u001b[39m_preload_content\u001b[39;49m\u001b[39m'\u001b[39;49m, \u001b[39mTrue\u001b[39;49;00m),\n\u001b[1;32m    318\u001b[0m     _request_timeout\u001b[39m=\u001b[39;49mlocal_var_params\u001b[39m.\u001b[39;49mget(\u001b[39m'\u001b[39;49m\u001b[39m_request_timeout\u001b[39;49m\u001b[39m'\u001b[39;49m),\n\u001b[1;32m    319\u001b[0m     collection_formats\u001b[39m=\u001b[39;49m{},\n\u001b[1;32m    320\u001b[0m     urlopen_kw\u001b[39m=\u001b[39;49mkwargs\u001b[39m.\u001b[39;49mget(\u001b[39m'\u001b[39;49m\u001b[39murlopen_kw\u001b[39;49m\u001b[39m'\u001b[39;49m, \u001b[39mNone\u001b[39;49;00m))\n",
      "File \u001b[0;32m~/opt/anaconda3/envs/py39_hmd/lib/python3.9/site-packages/influxdb_client/_sync/api_client.py:343\u001b[0m, in \u001b[0;36mApiClient.call_api\u001b[0;34m(self, resource_path, method, path_params, query_params, header_params, body, post_params, files, response_type, auth_settings, async_req, _return_http_data_only, collection_formats, _preload_content, _request_timeout, urlopen_kw)\u001b[0m\n\u001b[1;32m    304\u001b[0m \u001b[39m\u001b[39m\u001b[39m\"\"\"Make the HTTP request (synchronous) and Return deserialized data.\u001b[39;00m\n\u001b[1;32m    305\u001b[0m \n\u001b[1;32m    306\u001b[0m \u001b[39mTo make an async_req request, set the async_req parameter.\u001b[39;00m\n\u001b[0;32m   (...)\u001b[0m\n\u001b[1;32m    340\u001b[0m \u001b[39m    then the method will return the response directly.\u001b[39;00m\n\u001b[1;32m    341\u001b[0m \u001b[39m\"\"\"\u001b[39;00m\n\u001b[1;32m    342\u001b[0m \u001b[39mif\u001b[39;00m \u001b[39mnot\u001b[39;00m async_req:\n\u001b[0;32m--> 343\u001b[0m     \u001b[39mreturn\u001b[39;00m \u001b[39mself\u001b[39;49m\u001b[39m.\u001b[39;49m__call_api(resource_path, method,\n\u001b[1;32m    344\u001b[0m                            path_params, query_params, header_params,\n\u001b[1;32m    345\u001b[0m                            body, post_params, files,\n\u001b[1;32m    346\u001b[0m                            response_type, auth_settings,\n\u001b[1;32m    347\u001b[0m                            _return_http_data_only, collection_formats,\n\u001b[1;32m    348\u001b[0m                            _preload_content, _request_timeout, urlopen_kw)\n\u001b[1;32m    349\u001b[0m \u001b[39melse\u001b[39;00m:\n\u001b[1;32m    350\u001b[0m     thread \u001b[39m=\u001b[39m \u001b[39mself\u001b[39m\u001b[39m.\u001b[39mpool\u001b[39m.\u001b[39mapply_async(\u001b[39mself\u001b[39m\u001b[39m.\u001b[39m__call_api, (resource_path,\n\u001b[1;32m    351\u001b[0m                                    method, path_params, query_params,\n\u001b[1;32m    352\u001b[0m                                    header_params, body,\n\u001b[0;32m   (...)\u001b[0m\n\u001b[1;32m    356\u001b[0m                                    collection_formats,\n\u001b[1;32m    357\u001b[0m                                    _preload_content, _request_timeout, urlopen_kw))\n",
      "File \u001b[0;32m~/opt/anaconda3/envs/py39_hmd/lib/python3.9/site-packages/influxdb_client/_sync/api_client.py:173\u001b[0m, in \u001b[0;36mApiClient.__call_api\u001b[0;34m(self, resource_path, method, path_params, query_params, header_params, body, post_params, files, response_type, auth_settings, _return_http_data_only, collection_formats, _preload_content, _request_timeout, urlopen_kw)\u001b[0m\n\u001b[1;32m    170\u001b[0m urlopen_kw \u001b[39m=\u001b[39m urlopen_kw \u001b[39mor\u001b[39;00m {}\n\u001b[1;32m    172\u001b[0m \u001b[39m# perform request and return response\u001b[39;00m\n\u001b[0;32m--> 173\u001b[0m response_data \u001b[39m=\u001b[39m \u001b[39mself\u001b[39;49m\u001b[39m.\u001b[39;49mrequest(\n\u001b[1;32m    174\u001b[0m     method, url, query_params\u001b[39m=\u001b[39;49mquery_params, headers\u001b[39m=\u001b[39;49mheader_params,\n\u001b[1;32m    175\u001b[0m     post_params\u001b[39m=\u001b[39;49mpost_params, body\u001b[39m=\u001b[39;49mbody,\n\u001b[1;32m    176\u001b[0m     _preload_content\u001b[39m=\u001b[39;49m_preload_content,\n\u001b[1;32m    177\u001b[0m     _request_timeout\u001b[39m=\u001b[39;49m_request_timeout, \u001b[39m*\u001b[39;49m\u001b[39m*\u001b[39;49murlopen_kw)\n\u001b[1;32m    179\u001b[0m \u001b[39mself\u001b[39m\u001b[39m.\u001b[39mlast_response \u001b[39m=\u001b[39m response_data\n\u001b[1;32m    181\u001b[0m return_data \u001b[39m=\u001b[39m response_data\n",
      "File \u001b[0;32m~/opt/anaconda3/envs/py39_hmd/lib/python3.9/site-packages/influxdb_client/_sync/api_client.py:388\u001b[0m, in \u001b[0;36mApiClient.request\u001b[0;34m(self, method, url, query_params, headers, post_params, body, _preload_content, _request_timeout, **urlopen_kw)\u001b[0m\n\u001b[1;32m    379\u001b[0m     \u001b[39mreturn\u001b[39;00m \u001b[39mself\u001b[39m\u001b[39m.\u001b[39mrest_client\u001b[39m.\u001b[39mOPTIONS(url,\n\u001b[1;32m    380\u001b[0m                                     query_params\u001b[39m=\u001b[39mquery_params,\n\u001b[1;32m    381\u001b[0m                                     headers\u001b[39m=\u001b[39mheaders,\n\u001b[0;32m   (...)\u001b[0m\n\u001b[1;32m    385\u001b[0m                                     body\u001b[39m=\u001b[39mbody,\n\u001b[1;32m    386\u001b[0m                                     \u001b[39m*\u001b[39m\u001b[39m*\u001b[39murlopen_kw)\n\u001b[1;32m    387\u001b[0m \u001b[39melif\u001b[39;00m method \u001b[39m==\u001b[39m \u001b[39m\"\u001b[39m\u001b[39mPOST\u001b[39m\u001b[39m\"\u001b[39m:\n\u001b[0;32m--> 388\u001b[0m     \u001b[39mreturn\u001b[39;00m \u001b[39mself\u001b[39;49m\u001b[39m.\u001b[39;49mrest_client\u001b[39m.\u001b[39;49mPOST(url,\n\u001b[1;32m    389\u001b[0m                                  query_params\u001b[39m=\u001b[39;49mquery_params,\n\u001b[1;32m    390\u001b[0m                                  headers\u001b[39m=\u001b[39;49mheaders,\n\u001b[1;32m    391\u001b[0m                                  post_params\u001b[39m=\u001b[39;49mpost_params,\n\u001b[1;32m    392\u001b[0m                                  _preload_content\u001b[39m=\u001b[39;49m_preload_content,\n\u001b[1;32m    393\u001b[0m                                  _request_timeout\u001b[39m=\u001b[39;49m_request_timeout,\n\u001b[1;32m    394\u001b[0m                                  body\u001b[39m=\u001b[39;49mbody,\n\u001b[1;32m    395\u001b[0m                                  \u001b[39m*\u001b[39;49m\u001b[39m*\u001b[39;49murlopen_kw)\n\u001b[1;32m    396\u001b[0m \u001b[39melif\u001b[39;00m method \u001b[39m==\u001b[39m \u001b[39m\"\u001b[39m\u001b[39mPUT\u001b[39m\u001b[39m\"\u001b[39m:\n\u001b[1;32m    397\u001b[0m     \u001b[39mreturn\u001b[39;00m \u001b[39mself\u001b[39m\u001b[39m.\u001b[39mrest_client\u001b[39m.\u001b[39mPUT(url,\n\u001b[1;32m    398\u001b[0m                                 query_params\u001b[39m=\u001b[39mquery_params,\n\u001b[1;32m    399\u001b[0m                                 headers\u001b[39m=\u001b[39mheaders,\n\u001b[0;32m   (...)\u001b[0m\n\u001b[1;32m    403\u001b[0m                                 body\u001b[39m=\u001b[39mbody,\n\u001b[1;32m    404\u001b[0m                                 \u001b[39m*\u001b[39m\u001b[39m*\u001b[39murlopen_kw)\n",
      "File \u001b[0;32m~/opt/anaconda3/envs/py39_hmd/lib/python3.9/site-packages/influxdb_client/_sync/rest.py:311\u001b[0m, in \u001b[0;36mRESTClientObject.POST\u001b[0;34m(self, url, headers, query_params, post_params, body, _preload_content, _request_timeout, **urlopen_kw)\u001b[0m\n\u001b[1;32m    308\u001b[0m \u001b[39mdef\u001b[39;00m \u001b[39mPOST\u001b[39m(\u001b[39mself\u001b[39m, url, headers\u001b[39m=\u001b[39m\u001b[39mNone\u001b[39;00m, query_params\u001b[39m=\u001b[39m\u001b[39mNone\u001b[39;00m, post_params\u001b[39m=\u001b[39m\u001b[39mNone\u001b[39;00m,\n\u001b[1;32m    309\u001b[0m          body\u001b[39m=\u001b[39m\u001b[39mNone\u001b[39;00m, _preload_content\u001b[39m=\u001b[39m\u001b[39mTrue\u001b[39;00m, _request_timeout\u001b[39m=\u001b[39m\u001b[39mNone\u001b[39;00m, \u001b[39m*\u001b[39m\u001b[39m*\u001b[39murlopen_kw):\n\u001b[1;32m    310\u001b[0m \u001b[39m    \u001b[39m\u001b[39m\"\"\"Perform POST HTTP request.\"\"\"\u001b[39;00m\n\u001b[0;32m--> 311\u001b[0m     \u001b[39mreturn\u001b[39;00m \u001b[39mself\u001b[39;49m\u001b[39m.\u001b[39;49mrequest(\u001b[39m\"\u001b[39;49m\u001b[39mPOST\u001b[39;49m\u001b[39m\"\u001b[39;49m, url,\n\u001b[1;32m    312\u001b[0m                         headers\u001b[39m=\u001b[39;49mheaders,\n\u001b[1;32m    313\u001b[0m                         query_params\u001b[39m=\u001b[39;49mquery_params,\n\u001b[1;32m    314\u001b[0m                         post_params\u001b[39m=\u001b[39;49mpost_params,\n\u001b[1;32m    315\u001b[0m                         _preload_content\u001b[39m=\u001b[39;49m_preload_content,\n\u001b[1;32m    316\u001b[0m                         _request_timeout\u001b[39m=\u001b[39;49m_request_timeout,\n\u001b[1;32m    317\u001b[0m                         body\u001b[39m=\u001b[39;49mbody,\n\u001b[1;32m    318\u001b[0m                         \u001b[39m*\u001b[39;49m\u001b[39m*\u001b[39;49murlopen_kw)\n",
      "File \u001b[0;32m~/opt/anaconda3/envs/py39_hmd/lib/python3.9/site-packages/influxdb_client/_sync/rest.py:261\u001b[0m, in \u001b[0;36mRESTClientObject.request\u001b[0;34m(self, method, url, query_params, headers, body, post_params, _preload_content, _request_timeout, **urlopen_kw)\u001b[0m\n\u001b[1;32m    258\u001b[0m     _BaseRESTClient\u001b[39m.\u001b[39mlog_body(r\u001b[39m.\u001b[39mdata, \u001b[39m'\u001b[39m\u001b[39m<<<\u001b[39m\u001b[39m'\u001b[39m)\n\u001b[1;32m    260\u001b[0m \u001b[39mif\u001b[39;00m \u001b[39mnot\u001b[39;00m \u001b[39m200\u001b[39m \u001b[39m<\u001b[39m\u001b[39m=\u001b[39m r\u001b[39m.\u001b[39mstatus \u001b[39m<\u001b[39m\u001b[39m=\u001b[39m \u001b[39m299\u001b[39m:\n\u001b[0;32m--> 261\u001b[0m     \u001b[39mraise\u001b[39;00m ApiException(http_resp\u001b[39m=\u001b[39mr)\n\u001b[1;32m    263\u001b[0m \u001b[39mreturn\u001b[39;00m r\n",
      "\u001b[0;31mApiException\u001b[0m: (500)\nReason: Internal Server Error\nHTTP response headers: HTTPHeaderDict({'Content-Type': 'text/csv; charset=utf-8', 'Request-Id': '99fabd91-da2f-11ed-a866-b827eb20b9db', 'X-Influxdb-Build': 'OSS', 'X-Influxdb-Error': 'panic: runtime error: invalid memory address or nil pointer dereference', 'X-Influxdb-Version': '1.8.10', 'X-Request-Id': '99fabd91-da2f-11ed-a866-b827eb20b9db', 'Date': 'Thu, 13 Apr 2023 19:17:23 GMT', 'Transfer-Encoding': 'chunked'})\nHTTP response body: b'{\"error\":\"panic: runtime error: invalid memory address or nil pointer dereference\"}\\n'\n"
     ]
    }
   ],
   "source": [
    "%%time\n",
    "query1 = f\"\"\"from(bucket: \"{client_conf['database']}/autogen\")\n",
    "                    |> range(start: {start}, stop: {stop})\n",
    "                    |> filter(fn: (r) => r._measurement == \"{measurement}\" and r._field == \"{field}\")\n",
    "                    |> keep(columns: [\"_time\", \"_value\"])\n",
    "                    |> window(every: 5m)\n",
    "                    |> mean()\"\"\"\n",
    "                    \n",
    "result_query1 = query_api.query(query1)"
   ]
  },
  {
   "cell_type": "code",
   "execution_count": null,
   "metadata": {},
   "outputs": [],
   "source": [
    "%%time\n",
    "query1 = f\"\"\"from(bucket: \"{client_conf['database']}/autogen\")\n",
    "                    |> range(start: {start}, stop: {stop})\n",
    "                    |> filter(fn: (r) => r._measurement == \"{measurement}\")\n",
    "                    |> filter(fn: (r) => r._field == \"{field}\")\n",
    "                    |> pivot(rowKey:[\"_time\"], columnKey: [\"_field\"], valueColumn: \"_value\")\n",
    "                    |> keep(columns: [\"_time\", \"{field}\"])\n",
    "                    |> aggregateWindow(every: 30s, fn: mean)\"\"\"\n",
    "                    \n",
    "df_query1 = query_api.query_data_frame(query1, data_frame_index=[\"_time\"])"
   ]
  },
  {
   "cell_type": "code",
   "execution_count": 18,
   "metadata": {},
   "outputs": [
    {
     "data": {
      "text/html": [
       "<div>\n",
       "<style scoped>\n",
       "    .dataframe tbody tr th:only-of-type {\n",
       "        vertical-align: middle;\n",
       "    }\n",
       "\n",
       "    .dataframe tbody tr th {\n",
       "        vertical-align: top;\n",
       "    }\n",
       "\n",
       "    .dataframe thead th {\n",
       "        text-align: right;\n",
       "    }\n",
       "</style>\n",
       "<table border=\"1\" class=\"dataframe\">\n",
       "  <thead>\n",
       "    <tr style=\"text-align: right;\">\n",
       "      <th></th>\n",
       "      <th>result</th>\n",
       "      <th>table</th>\n",
       "      <th>PAPP</th>\n",
       "    </tr>\n",
       "    <tr>\n",
       "      <th>_time</th>\n",
       "      <th></th>\n",
       "      <th></th>\n",
       "      <th></th>\n",
       "    </tr>\n",
       "  </thead>\n",
       "  <tbody>\n",
       "    <tr>\n",
       "      <th>2023-03-30 16:43:12.488021+00:00</th>\n",
       "      <td>_result</td>\n",
       "      <td>0</td>\n",
       "      <td>30</td>\n",
       "    </tr>\n",
       "    <tr>\n",
       "      <th>2023-03-30 16:43:13.916776+00:00</th>\n",
       "      <td>_result</td>\n",
       "      <td>0</td>\n",
       "      <td>30</td>\n",
       "    </tr>\n",
       "    <tr>\n",
       "      <th>2023-03-30 16:43:15.425432+00:00</th>\n",
       "      <td>_result</td>\n",
       "      <td>0</td>\n",
       "      <td>30</td>\n",
       "    </tr>\n",
       "    <tr>\n",
       "      <th>2023-03-30 16:43:16.916091+00:00</th>\n",
       "      <td>_result</td>\n",
       "      <td>0</td>\n",
       "      <td>30</td>\n",
       "    </tr>\n",
       "    <tr>\n",
       "      <th>2023-03-30 16:43:18.403792+00:00</th>\n",
       "      <td>_result</td>\n",
       "      <td>0</td>\n",
       "      <td>30</td>\n",
       "    </tr>\n",
       "    <tr>\n",
       "      <th>...</th>\n",
       "      <td>...</td>\n",
       "      <td>...</td>\n",
       "      <td>...</td>\n",
       "    </tr>\n",
       "    <tr>\n",
       "      <th>2023-04-06 16:43:03.725629+00:00</th>\n",
       "      <td>_result</td>\n",
       "      <td>0</td>\n",
       "      <td>130</td>\n",
       "    </tr>\n",
       "    <tr>\n",
       "      <th>2023-04-06 16:43:05.227356+00:00</th>\n",
       "      <td>_result</td>\n",
       "      <td>0</td>\n",
       "      <td>140</td>\n",
       "    </tr>\n",
       "    <tr>\n",
       "      <th>2023-04-06 16:43:06.717376+00:00</th>\n",
       "      <td>_result</td>\n",
       "      <td>0</td>\n",
       "      <td>130</td>\n",
       "    </tr>\n",
       "    <tr>\n",
       "      <th>2023-04-06 16:43:08.204050+00:00</th>\n",
       "      <td>_result</td>\n",
       "      <td>0</td>\n",
       "      <td>130</td>\n",
       "    </tr>\n",
       "    <tr>\n",
       "      <th>2023-04-06 16:43:09.703965+00:00</th>\n",
       "      <td>_result</td>\n",
       "      <td>0</td>\n",
       "      <td>140</td>\n",
       "    </tr>\n",
       "  </tbody>\n",
       "</table>\n",
       "<p>405618 rows × 3 columns</p>\n",
       "</div>"
      ],
      "text/plain": [
       "                                   result  table  PAPP\n",
       "_time                                                 \n",
       "2023-03-30 16:43:12.488021+00:00  _result      0    30\n",
       "2023-03-30 16:43:13.916776+00:00  _result      0    30\n",
       "2023-03-30 16:43:15.425432+00:00  _result      0    30\n",
       "2023-03-30 16:43:16.916091+00:00  _result      0    30\n",
       "2023-03-30 16:43:18.403792+00:00  _result      0    30\n",
       "...                                   ...    ...   ...\n",
       "2023-04-06 16:43:03.725629+00:00  _result      0   130\n",
       "2023-04-06 16:43:05.227356+00:00  _result      0   140\n",
       "2023-04-06 16:43:06.717376+00:00  _result      0   130\n",
       "2023-04-06 16:43:08.204050+00:00  _result      0   130\n",
       "2023-04-06 16:43:09.703965+00:00  _result      0   140\n",
       "\n",
       "[405618 rows x 3 columns]"
      ]
     },
     "execution_count": 18,
     "metadata": {},
     "output_type": "execute_result"
    }
   ],
   "source": [
    "df_query1"
   ]
  },
  {
   "attachments": {},
   "cell_type": "markdown",
   "metadata": {},
   "source": [
    "# Test influxdb"
   ]
  },
  {
   "cell_type": "code",
   "execution_count": 91,
   "metadata": {},
   "outputs": [],
   "source": [
    "from influxdb import DataFrameClient, InfluxDBClient"
   ]
  },
  {
   "cell_type": "code",
   "execution_count": null,
   "metadata": {},
   "outputs": [],
   "source": [
    "client "
   ]
  },
  {
   "cell_type": "code",
   "execution_count": 293,
   "metadata": {},
   "outputs": [],
   "source": [
    "client2 = DataFrameClient(client_conf[\"host\"], 8086, client_conf[\"username\"], client_conf[\"password\"], database=client_conf[\"database\"], timeout=200)"
   ]
  },
  {
   "cell_type": "code",
   "execution_count": 97,
   "metadata": {},
   "outputs": [
    {
     "data": {
      "text/plain": [
       "[{'name': 'bme688'}, {'name': 'openweather_current_weather'}]"
      ]
     },
     "execution_count": 97,
     "metadata": {},
     "output_type": "execute_result"
    }
   ],
   "source": [
    "client2.get_list_measurements()"
   ]
  },
  {
   "cell_type": "code",
   "execution_count": 274,
   "metadata": {},
   "outputs": [],
   "source": [
    "query2 = f\"\"\"SELECT {field} FROM {measurement}\n",
    "            WHERE time > now() - {start} AND time < {stop} \"\"\""
   ]
  },
  {
   "cell_type": "code",
   "execution_count": 275,
   "metadata": {},
   "outputs": [
    {
     "data": {
      "text/plain": [
       "'SELECT temperature FROM bme688\\n            WHERE time > now() - 7d AND time < now() '"
      ]
     },
     "execution_count": 275,
     "metadata": {},
     "output_type": "execute_result"
    }
   ],
   "source": [
    "query2"
   ]
  },
  {
   "attachments": {},
   "cell_type": "markdown",
   "metadata": {},
   "source": [
    "time for bme688.temperature : "
   ]
  },
  {
   "cell_type": "code",
   "execution_count": 81,
   "metadata": {},
   "outputs": [
    {
     "name": "stdout",
     "output_type": "stream",
     "text": [
      "677 ms ± 172 ms per loop (mean ± std. dev. of 7 runs, 1 loop each)\n"
     ]
    }
   ],
   "source": [
    "%%timeit\n",
    "df_query2 = client2.query(query2)[measurement]"
   ]
  },
  {
   "attachments": {},
   "cell_type": "markdown",
   "metadata": {},
   "source": [
    "time for teleinfo.PAPP : "
   ]
  },
  {
   "cell_type": "code",
   "execution_count": 48,
   "metadata": {},
   "outputs": [
    {
     "name": "stdout",
     "output_type": "stream",
     "text": [
      "57.3 s ± 3.8 s per loop (mean ± std. dev. of 7 runs, 1 loop each)\n"
     ]
    }
   ],
   "source": [
    "%%timeit\n",
    "df_query2 = client2.query(query2)[measurement]"
   ]
  },
  {
   "cell_type": "code",
   "execution_count": 276,
   "metadata": {},
   "outputs": [
    {
     "name": "stdout",
     "output_type": "stream",
     "text": [
      "CPU times: user 97.2 ms, sys: 26.2 ms, total: 123 ms\n",
      "Wall time: 775 ms\n"
     ]
    }
   ],
   "source": [
    "%%time\n",
    "df_query2 = client2.query(query2)[measurement]"
   ]
  },
  {
   "cell_type": "code",
   "execution_count": 106,
   "metadata": {},
   "outputs": [
    {
     "data": {
      "text/html": [
       "<div>\n",
       "<style scoped>\n",
       "    .dataframe tbody tr th:only-of-type {\n",
       "        vertical-align: middle;\n",
       "    }\n",
       "\n",
       "    .dataframe tbody tr th {\n",
       "        vertical-align: top;\n",
       "    }\n",
       "\n",
       "    .dataframe thead th {\n",
       "        text-align: right;\n",
       "    }\n",
       "</style>\n",
       "<table border=\"1\" class=\"dataframe\">\n",
       "  <thead>\n",
       "    <tr style=\"text-align: right;\">\n",
       "      <th></th>\n",
       "      <th>temperature</th>\n",
       "    </tr>\n",
       "  </thead>\n",
       "  <tbody>\n",
       "    <tr>\n",
       "      <th>2023-04-07 20:05:27.859447+00:00</th>\n",
       "      <td>18.28</td>\n",
       "    </tr>\n",
       "    <tr>\n",
       "      <th>2023-04-07 20:05:57.862599+00:00</th>\n",
       "      <td>18.29</td>\n",
       "    </tr>\n",
       "    <tr>\n",
       "      <th>2023-04-07 20:06:27.867723+00:00</th>\n",
       "      <td>18.30</td>\n",
       "    </tr>\n",
       "    <tr>\n",
       "      <th>2023-04-07 20:06:57.867264+00:00</th>\n",
       "      <td>18.32</td>\n",
       "    </tr>\n",
       "    <tr>\n",
       "      <th>2023-04-07 20:07:27.868901+00:00</th>\n",
       "      <td>18.34</td>\n",
       "    </tr>\n",
       "    <tr>\n",
       "      <th>...</th>\n",
       "      <td>...</td>\n",
       "    </tr>\n",
       "    <tr>\n",
       "      <th>2023-04-14 20:02:54.150653+00:00</th>\n",
       "      <td>17.64</td>\n",
       "    </tr>\n",
       "    <tr>\n",
       "      <th>2023-04-14 20:03:24.151740+00:00</th>\n",
       "      <td>17.64</td>\n",
       "    </tr>\n",
       "    <tr>\n",
       "      <th>2023-04-14 20:03:54.154757+00:00</th>\n",
       "      <td>17.64</td>\n",
       "    </tr>\n",
       "    <tr>\n",
       "      <th>2023-04-14 20:04:24.155225+00:00</th>\n",
       "      <td>17.63</td>\n",
       "    </tr>\n",
       "    <tr>\n",
       "      <th>2023-04-14 20:04:54.155133+00:00</th>\n",
       "      <td>17.63</td>\n",
       "    </tr>\n",
       "  </tbody>\n",
       "</table>\n",
       "<p>20159 rows × 1 columns</p>\n",
       "</div>"
      ],
      "text/plain": [
       "                                  temperature\n",
       "2023-04-07 20:05:27.859447+00:00        18.28\n",
       "2023-04-07 20:05:57.862599+00:00        18.29\n",
       "2023-04-07 20:06:27.867723+00:00        18.30\n",
       "2023-04-07 20:06:57.867264+00:00        18.32\n",
       "2023-04-07 20:07:27.868901+00:00        18.34\n",
       "...                                       ...\n",
       "2023-04-14 20:02:54.150653+00:00        17.64\n",
       "2023-04-14 20:03:24.151740+00:00        17.64\n",
       "2023-04-14 20:03:54.154757+00:00        17.64\n",
       "2023-04-14 20:04:24.155225+00:00        17.63\n",
       "2023-04-14 20:04:54.155133+00:00        17.63\n",
       "\n",
       "[20159 rows x 1 columns]"
      ]
     },
     "execution_count": 106,
     "metadata": {},
     "output_type": "execute_result"
    }
   ],
   "source": [
    "df_query2"
   ]
  },
  {
   "cell_type": "code",
   "execution_count": 70,
   "metadata": {},
   "outputs": [],
   "source": [
    "query2 = f\"\"\"SELECT mean({field}) FROM {client_conf[\"database\"]}.\"autogen\".\"{measurement}\"\n",
    "            WHERE time > now() {start} AND time < {stop} \"\"\""
   ]
  },
  {
   "cell_type": "code",
   "execution_count": 71,
   "metadata": {},
   "outputs": [],
   "source": [
    "result = client2.query(query2)"
   ]
  },
  {
   "cell_type": "code",
   "execution_count": 50,
   "metadata": {},
   "outputs": [],
   "source": [
    "query3 = f\"\"\"SELECT mean({field}) as \"mean\" FROM {client_conf[\"database\"]}.autogen.{measurement}\n",
    "            WHERE time > {start} AND time < {stop} GROUP BY time(30s) FILL(null)\"\"\""
   ]
  },
  {
   "cell_type": "code",
   "execution_count": 62,
   "metadata": {},
   "outputs": [
    {
     "name": "stdout",
     "output_type": "stream",
     "text": [
      "CPU times: user 5.46 ms, sys: 1.79 ms, total: 7.25 ms\n",
      "Wall time: 83.4 ms\n"
     ]
    }
   ],
   "source": [
    "%%time\n",
    "df_query3 = client2.query(query3)[measurement]"
   ]
  },
  {
   "cell_type": "code",
   "execution_count": 169,
   "metadata": {},
   "outputs": [],
   "source": [
    "query4 = f\"SELECT * FROM {client_conf['database']}.autogen.{measurement} LIMIT 1\""
   ]
  },
  {
   "attachments": {},
   "cell_type": "markdown",
   "metadata": {},
   "source": [
    "# Get schema"
   ]
  },
  {
   "cell_type": "code",
   "execution_count": 277,
   "metadata": {},
   "outputs": [],
   "source": [
    "query4 = f\"SELECT first(*) FROM {client_conf['database']}.autogen.{measurement}\""
   ]
  },
  {
   "cell_type": "code",
   "execution_count": 278,
   "metadata": {},
   "outputs": [],
   "source": [
    "df_query = client2.query(query4)[measurement]"
   ]
  },
  {
   "cell_type": "code",
   "execution_count": 281,
   "metadata": {},
   "outputs": [
    {
     "data": {
      "text/plain": [
       "Timestamp('1970-01-01 00:00:00+0000', tz='UTC')"
      ]
     },
     "execution_count": 281,
     "metadata": {},
     "output_type": "execute_result"
    }
   ],
   "source": [
    "df_query.index[0]"
   ]
  },
  {
   "cell_type": "code",
   "execution_count": 286,
   "metadata": {},
   "outputs": [],
   "source": [
    "query4 = f\"SHOW FIELD KEYS\""
   ]
  },
  {
   "cell_type": "code",
   "execution_count": 287,
   "metadata": {},
   "outputs": [],
   "source": [
    "fields_set = client2.query(query4)"
   ]
  },
  {
   "cell_type": "code",
   "execution_count": 288,
   "metadata": {},
   "outputs": [
    {
     "data": {
      "text/plain": [
       "ResultSet({'('bme688', None)': [{'fieldKey': 'gas_resistance', 'fieldType': 'float'}, {'fieldKey': 'heat_stable', 'fieldType': 'boolean'}, {'fieldKey': 'humidity', 'fieldType': 'float'}, {'fieldKey': 'pressure', 'fieldType': 'float'}, {'fieldKey': 'status', 'fieldType': 'integer'}, {'fieldKey': 'temperature', 'fieldType': 'float'}], '('openweather_current_weather', None)': [{'fieldKey': 'cloud_cover', 'fieldType': 'integer'}, {'fieldKey': 'humidity', 'fieldType': 'integer'}, {'fieldKey': 'pressure', 'fieldType': 'integer'}, {'fieldKey': 'temp', 'fieldType': 'float'}, {'fieldKey': 'temp_feels_like', 'fieldType': 'float'}, {'fieldKey': 'weather_category', 'fieldType': 'string'}, {'fieldKey': 'weather_description', 'fieldType': 'string'}, {'fieldKey': 'wind_direction', 'fieldType': 'integer'}, {'fieldKey': 'wind_gust', 'fieldType': 'float'}, {'fieldKey': 'wind_speed', 'fieldType': 'float'}]})"
      ]
     },
     "execution_count": 288,
     "metadata": {},
     "output_type": "execute_result"
    }
   ],
   "source": [
    "fields_set"
   ]
  },
  {
   "cell_type": "code",
   "execution_count": 294,
   "metadata": {},
   "outputs": [],
   "source": [
    "query4 = f\"SHOW FIELD KEYS\"\n",
    "fields_set = client2.query(query4)\n",
    "\n",
    "schema = {}\n",
    "for measurement, fields_meas in fields_set.items():\n",
    "    fields = {field_dict['fieldKey']: field_dict['fieldType']\n",
    "              for field_dict in fields_meas }\n",
    "    first_field = list(fields.keys())[0]\n",
    "     \n",
    "    query_first = f\"SELECT first({first_field}) FROM {measurement[0]}\"\n",
    "    query_last = f\"SELECT last({first_field}) FROM {measurement[0]}\"\n",
    "    \n",
    "    schema[measurement[0]] = {\n",
    "        \"fields\": fields,\n",
    "        \"first_date\": client2.query(query_first)[measurement[0]].index[0],\n",
    "        \"last_date\": client2.query(query_last)[measurement[0]].index[0],\n",
    "    }\n",
    "    "
   ]
  },
  {
   "cell_type": "code",
   "execution_count": 295,
   "metadata": {},
   "outputs": [
    {
     "data": {
      "text/plain": [
       "{'sensorhub': {'fields': {'Brightness': 'integer',\n",
       "   'HumanDetected': 'boolean',\n",
       "   'Humidity': 'integer',\n",
       "   'Pressure': 'float',\n",
       "   'TempBaromter': 'integer',\n",
       "   'TempOffchip': 'integer',\n",
       "   'TempOnChip': 'integer'},\n",
       "  'first_date': Timestamp('2023-03-15 18:24:38.354230+0000', tz='UTC'),\n",
       "  'last_date': Timestamp('2023-04-16 21:36:28.119821+0000', tz='UTC')},\n",
       " 'teleinfo': {'fields': {'BASE': 'integer',\n",
       "   'HHPHC': 'string',\n",
       "   'IINST': 'integer',\n",
       "   'IMAX': 'integer',\n",
       "   'PAPP': 'integer'},\n",
       "  'first_date': Timestamp('2023-03-15 18:23:41.959361+0000', tz='UTC'),\n",
       "  'last_date': Timestamp('2023-04-16 21:36:57.823737+0000', tz='UTC')}}"
      ]
     },
     "execution_count": 295,
     "metadata": {},
     "output_type": "execute_result"
    }
   ],
   "source": [
    "schema"
   ]
  },
  {
   "cell_type": "code",
   "execution_count": 222,
   "metadata": {},
   "outputs": [
    {
     "ename": "TypeError",
     "evalue": "'dict_values' object is not subscriptable",
     "output_type": "error",
     "traceback": [
      "\u001b[0;31m---------------------------------------------------------------------------\u001b[0m",
      "\u001b[0;31mTypeError\u001b[0m                                 Traceback (most recent call last)",
      "Cell \u001b[0;32mIn[222], line 3\u001b[0m\n\u001b[1;32m      1\u001b[0m \u001b[39mfor\u001b[39;00m database, fields_gen \u001b[39min\u001b[39;00m fields_set\u001b[39m.\u001b[39mitems():\n\u001b[1;32m      2\u001b[0m     \u001b[39mfor\u001b[39;00m field_dict \u001b[39min\u001b[39;00m fields_gen: \n\u001b[0;32m----> 3\u001b[0m         \u001b[39mprint\u001b[39m(field_dict\u001b[39m.\u001b[39;49mvalues()[\u001b[39m0\u001b[39;49m])\n",
      "\u001b[0;31mTypeError\u001b[0m: 'dict_values' object is not subscriptable"
     ]
    }
   ],
   "source": [
    "for database, fields_gen in fields_set.items():\n",
    "    for field_dict in fields_gen: \n",
    "        print(field_dict[field])"
   ]
  },
  {
   "cell_type": "code",
   "execution_count": 214,
   "metadata": {},
   "outputs": [],
   "source": [
    "test_list = ['bonjour', 'connard']    "
   ]
  },
  {
   "cell_type": "code",
   "execution_count": 216,
   "metadata": {},
   "outputs": [
    {
     "data": {
      "text/plain": [
       "{'b': 'connard',\n",
       " 'o': 'connard',\n",
       " 'n': 'connard',\n",
       " 'j': 'connard',\n",
       " 'u': 'connard',\n",
       " 'r': 'connard'}"
      ]
     },
     "execution_count": 216,
     "metadata": {},
     "output_type": "execute_result"
    }
   ],
   "source": [
    "dict.fromkeys(*test_list)"
   ]
  },
  {
   "cell_type": "code",
   "execution_count": 213,
   "metadata": {},
   "outputs": [
    {
     "data": {
      "text/plain": [
       "{'bonjour': 'connard'}"
      ]
     },
     "execution_count": 213,
     "metadata": {},
     "output_type": "execute_result"
    }
   ],
   "source": [
    "dict.fromkeys(['bonjour'], 'connard')"
   ]
  },
  {
   "cell_type": "code",
   "execution_count": 206,
   "metadata": {},
   "outputs": [
    {
     "data": {
      "text/plain": [
       "{'sensorhub': {'fields': {dict_values(['Brightness', 'integer']),\n",
       "   dict_values(['HumanDetected', 'boolean']),\n",
       "   dict_values(['Humidity', 'integer']),\n",
       "   dict_values(['Pressure', 'float']),\n",
       "   dict_values(['TempBaromter', 'integer']),\n",
       "   dict_values(['TempOffchip', 'integer']),\n",
       "   dict_values(['TempOnChip', 'integer'])}},\n",
       " 'teleinfo': {'fields': {dict_values(['BASE', 'integer']),\n",
       "   dict_values(['HHPHC', 'string']),\n",
       "   dict_values(['IINST', 'integer']),\n",
       "   dict_values(['IMAX', 'integer']),\n",
       "   dict_values(['PAPP', 'integer'])}}}"
      ]
     },
     "execution_count": 206,
     "metadata": {},
     "output_type": "execute_result"
    }
   ],
   "source": [
    "schema"
   ]
  },
  {
   "cell_type": "code",
   "execution_count": null,
   "metadata": {},
   "outputs": [],
   "source": [
    "df_query = "
   ]
  },
  {
   "cell_type": "code",
   "execution_count": 191,
   "metadata": {},
   "outputs": [
    {
     "name": "stdout",
     "output_type": "stream",
     "text": [
      "{'fieldKey': 'BASE', 'fieldType': 'integer'}\n",
      "{'fieldKey': 'HHPHC', 'fieldType': 'string'}\n",
      "{'fieldKey': 'IINST', 'fieldType': 'integer'}\n",
      "{'fieldKey': 'IMAX', 'fieldType': 'integer'}\n",
      "{'fieldKey': 'PAPP', 'fieldType': 'integer'}\n"
     ]
    }
   ],
   "source": [
    "for field in df_query['teleinfo']:\n",
    "    print(field)"
   ]
  },
  {
   "cell_type": "code",
   "execution_count": 173,
   "metadata": {},
   "outputs": [
    {
     "data": {
      "text/plain": [
       "BASE      int64\n",
       "HHPHC    object\n",
       "IINST     int64\n",
       "IMAX      int64\n",
       "PAPP      int64\n",
       "dtype: object"
      ]
     },
     "execution_count": 173,
     "metadata": {},
     "output_type": "execute_result"
    }
   ],
   "source": [
    "df_query.dtypes"
   ]
  },
  {
   "cell_type": "code",
   "execution_count": 167,
   "metadata": {},
   "outputs": [
    {
     "data": {
      "text/html": [
       "<div>\n",
       "<style scoped>\n",
       "    .dataframe tbody tr th:only-of-type {\n",
       "        vertical-align: middle;\n",
       "    }\n",
       "\n",
       "    .dataframe tbody tr th {\n",
       "        vertical-align: top;\n",
       "    }\n",
       "\n",
       "    .dataframe thead th {\n",
       "        text-align: right;\n",
       "    }\n",
       "</style>\n",
       "<table border=\"1\" class=\"dataframe\">\n",
       "  <thead>\n",
       "    <tr style=\"text-align: right;\">\n",
       "      <th></th>\n",
       "      <th>first</th>\n",
       "    </tr>\n",
       "  </thead>\n",
       "  <tbody>\n",
       "    <tr>\n",
       "      <th>2023-03-15 18:23:41.959361+00:00</th>\n",
       "      <td>8172459</td>\n",
       "    </tr>\n",
       "  </tbody>\n",
       "</table>\n",
       "</div>"
      ],
      "text/plain": [
       "                                    first\n",
       "2023-03-15 18:23:41.959361+00:00  8172459"
      ]
     },
     "execution_count": 167,
     "metadata": {},
     "output_type": "execute_result"
    }
   ],
   "source": [
    "df_query"
   ]
  },
  {
   "cell_type": "code",
   "execution_count": 148,
   "metadata": {},
   "outputs": [
    {
     "data": {
      "text/plain": [
       "['teleinfo']"
      ]
     },
     "execution_count": 148,
     "metadata": {},
     "output_type": "execute_result"
    }
   ],
   "source": [
    "client2.get_list_series(database=client_conf['database'], measurement=measurement)"
   ]
  },
  {
   "cell_type": "code",
   "execution_count": 168,
   "metadata": {},
   "outputs": [
    {
     "data": {
      "text/html": [
       "<div>\n",
       "<style scoped>\n",
       "    .dataframe tbody tr th:only-of-type {\n",
       "        vertical-align: middle;\n",
       "    }\n",
       "\n",
       "    .dataframe tbody tr th {\n",
       "        vertical-align: top;\n",
       "    }\n",
       "\n",
       "    .dataframe thead th {\n",
       "        text-align: right;\n",
       "    }\n",
       "</style>\n",
       "<table border=\"1\" class=\"dataframe\">\n",
       "  <thead>\n",
       "    <tr style=\"text-align: right;\">\n",
       "      <th></th>\n",
       "      <th>first</th>\n",
       "    </tr>\n",
       "  </thead>\n",
       "  <tbody>\n",
       "    <tr>\n",
       "      <th>2023-03-15 18:23:41.959361+00:00</th>\n",
       "      <td>8172459</td>\n",
       "    </tr>\n",
       "  </tbody>\n",
       "</table>\n",
       "</div>"
      ],
      "text/plain": [
       "                                    first\n",
       "2023-03-15 18:23:41.959361+00:00  8172459"
      ]
     },
     "execution_count": 168,
     "metadata": {},
     "output_type": "execute_result"
    }
   ],
   "source": [
    "df_query"
   ]
  },
  {
   "attachments": {},
   "cell_type": "markdown",
   "metadata": {},
   "source": [
    "# Test equality"
   ]
  },
  {
   "cell_type": "code",
   "execution_count": 77,
   "metadata": {},
   "outputs": [
    {
     "data": {
      "text/plain": [
       "20159"
      ]
     },
     "execution_count": 77,
     "metadata": {},
     "output_type": "execute_result"
    }
   ],
   "source": [
    "(df_query[\"temperature\"].reset_index(drop=True)== df_query2[\"temperature\"].reset_index(drop=True)).sum()"
   ]
  },
  {
   "cell_type": "code",
   "execution_count": 72,
   "metadata": {},
   "outputs": [
    {
     "data": {
      "text/plain": [
       "2023-03-29 19:36:53.013039+00:00    18.44\n",
       "2023-03-29 19:37:23.016486+00:00    18.44\n",
       "2023-03-29 19:37:53.016595+00:00    18.44\n",
       "2023-03-29 19:38:23.018836+00:00    18.44\n",
       "2023-03-29 19:38:53.019718+00:00    18.44\n",
       "                                    ...  \n",
       "2023-04-05 19:34:20.299559+00:00    17.45\n",
       "2023-04-05 19:34:50.299772+00:00    17.46\n",
       "2023-04-05 19:35:20.300499+00:00    17.46\n",
       "2023-04-05 19:35:50.303355+00:00    17.46\n",
       "2023-04-05 19:36:20.302933+00:00    17.47\n",
       "Name: temperature, Length: 20159, dtype: float64"
      ]
     },
     "execution_count": 72,
     "metadata": {},
     "output_type": "execute_result"
    }
   ],
   "source": [
    "df_query.rename_axis(None, axis=0)[\"temperature\"]"
   ]
  },
  {
   "cell_type": "code",
   "execution_count": 65,
   "metadata": {},
   "outputs": [
    {
     "data": {
      "text/plain": [
       "2023-03-29 19:36:53.013039+00:00    18.44\n",
       "2023-03-29 19:37:23.016487+00:00    18.44\n",
       "2023-03-29 19:37:53.016596+00:00    18.44\n",
       "2023-03-29 19:38:23.018837+00:00    18.44\n",
       "2023-03-29 19:38:53.019718+00:00    18.44\n",
       "                                    ...  \n",
       "2023-04-05 19:34:20.299559+00:00    17.45\n",
       "2023-04-05 19:34:50.299773+00:00    17.46\n",
       "2023-04-05 19:35:20.300500+00:00    17.46\n",
       "2023-04-05 19:35:50.303356+00:00    17.46\n",
       "2023-04-05 19:36:20.302933+00:00    17.47\n",
       "Name: temperature, Length: 20159, dtype: float64"
      ]
     },
     "execution_count": 65,
     "metadata": {},
     "output_type": "execute_result"
    }
   ],
   "source": [
    "df_query2[\"temperature\"]"
   ]
  },
  {
   "cell_type": "code",
   "execution_count": 53,
   "metadata": {},
   "outputs": [
    {
     "data": {
      "text/html": [
       "<div>\n",
       "<style scoped>\n",
       "    .dataframe tbody tr th:only-of-type {\n",
       "        vertical-align: middle;\n",
       "    }\n",
       "\n",
       "    .dataframe tbody tr th {\n",
       "        vertical-align: top;\n",
       "    }\n",
       "\n",
       "    .dataframe thead th {\n",
       "        text-align: right;\n",
       "    }\n",
       "</style>\n",
       "<table border=\"1\" class=\"dataframe\">\n",
       "  <thead>\n",
       "    <tr style=\"text-align: right;\">\n",
       "      <th></th>\n",
       "      <th>temperature</th>\n",
       "    </tr>\n",
       "  </thead>\n",
       "  <tbody>\n",
       "    <tr>\n",
       "      <th>2023-03-29 19:36:53.013039+00:00</th>\n",
       "      <td>18.44</td>\n",
       "    </tr>\n",
       "    <tr>\n",
       "      <th>2023-03-29 19:37:23.016487+00:00</th>\n",
       "      <td>18.44</td>\n",
       "    </tr>\n",
       "    <tr>\n",
       "      <th>2023-03-29 19:37:53.016596+00:00</th>\n",
       "      <td>18.44</td>\n",
       "    </tr>\n",
       "    <tr>\n",
       "      <th>2023-03-29 19:38:23.018837+00:00</th>\n",
       "      <td>18.44</td>\n",
       "    </tr>\n",
       "    <tr>\n",
       "      <th>2023-03-29 19:38:53.019718+00:00</th>\n",
       "      <td>18.44</td>\n",
       "    </tr>\n",
       "    <tr>\n",
       "      <th>...</th>\n",
       "      <td>...</td>\n",
       "    </tr>\n",
       "    <tr>\n",
       "      <th>2023-04-05 19:34:20.299559+00:00</th>\n",
       "      <td>17.45</td>\n",
       "    </tr>\n",
       "    <tr>\n",
       "      <th>2023-04-05 19:34:50.299773+00:00</th>\n",
       "      <td>17.46</td>\n",
       "    </tr>\n",
       "    <tr>\n",
       "      <th>2023-04-05 19:35:20.300500+00:00</th>\n",
       "      <td>17.46</td>\n",
       "    </tr>\n",
       "    <tr>\n",
       "      <th>2023-04-05 19:35:50.303356+00:00</th>\n",
       "      <td>17.46</td>\n",
       "    </tr>\n",
       "    <tr>\n",
       "      <th>2023-04-05 19:36:20.302933+00:00</th>\n",
       "      <td>17.47</td>\n",
       "    </tr>\n",
       "  </tbody>\n",
       "</table>\n",
       "<p>20159 rows × 1 columns</p>\n",
       "</div>"
      ],
      "text/plain": [
       "                                  temperature\n",
       "2023-03-29 19:36:53.013039+00:00        18.44\n",
       "2023-03-29 19:37:23.016487+00:00        18.44\n",
       "2023-03-29 19:37:53.016596+00:00        18.44\n",
       "2023-03-29 19:38:23.018837+00:00        18.44\n",
       "2023-03-29 19:38:53.019718+00:00        18.44\n",
       "...                                       ...\n",
       "2023-04-05 19:34:20.299559+00:00        17.45\n",
       "2023-04-05 19:34:50.299773+00:00        17.46\n",
       "2023-04-05 19:35:20.300500+00:00        17.46\n",
       "2023-04-05 19:35:50.303356+00:00        17.46\n",
       "2023-04-05 19:36:20.302933+00:00        17.47\n",
       "\n",
       "[20159 rows x 1 columns]"
      ]
     },
     "execution_count": 53,
     "metadata": {},
     "output_type": "execute_result"
    }
   ],
   "source": [
    "df_query2"
   ]
  },
  {
   "attachments": {},
   "cell_type": "markdown",
   "metadata": {},
   "source": [
    "# Test new InfluxDBConnector"
   ]
  },
  {
   "cell_type": "code",
   "execution_count": 296,
   "metadata": {},
   "outputs": [
    {
     "name": "stdout",
     "output_type": "stream",
     "text": [
      "The autoreload extension is already loaded. To reload it, use:\n",
      "  %reload_ext autoreload\n"
     ]
    }
   ],
   "source": [
    "%load_ext autoreload\n",
    "%autoreload 2"
   ]
  },
  {
   "cell_type": "code",
   "execution_count": 297,
   "metadata": {},
   "outputs": [],
   "source": [
    "from home_monitoring_display.query_influxdb import InfluxDBConnector"
   ]
  },
  {
   "cell_type": "code",
   "execution_count": 298,
   "metadata": {},
   "outputs": [],
   "source": [
    "influxdb_connector = InfluxDBConnector(**client_conf)"
   ]
  },
  {
   "cell_type": "code",
   "execution_count": 299,
   "metadata": {},
   "outputs": [
    {
     "data": {
      "text/plain": [
       "{'sensorhub': {'fields': {'Brightness': 'integer',\n",
       "   'HumanDetected': 'boolean',\n",
       "   'Humidity': 'integer',\n",
       "   'Pressure': 'float',\n",
       "   'TempBaromter': 'integer',\n",
       "   'TempOffchip': 'integer',\n",
       "   'TempOnChip': 'integer'},\n",
       "  'first_date': Timestamp('2023-03-15 18:24:38.354230+0000', tz='UTC'),\n",
       "  'last_date': Timestamp('2023-04-16 21:38:28.079489+0000', tz='UTC')},\n",
       " 'teleinfo': {'fields': {'BASE': 'integer',\n",
       "   'HHPHC': 'string',\n",
       "   'IINST': 'integer',\n",
       "   'IMAX': 'integer',\n",
       "   'PAPP': 'integer'},\n",
       "  'first_date': Timestamp('2023-03-15 18:23:41.959361+0000', tz='UTC'),\n",
       "  'last_date': Timestamp('2023-04-16 21:38:43.676188+0000', tz='UTC')}}"
      ]
     },
     "execution_count": 299,
     "metadata": {},
     "output_type": "execute_result"
    }
   ],
   "source": [
    "influxdb_connector.get_schema()"
   ]
  },
  {
   "cell_type": "code",
   "execution_count": 83,
   "metadata": {},
   "outputs": [],
   "source": [
    "start = '7d'"
   ]
  },
  {
   "cell_type": "code",
   "execution_count": 84,
   "metadata": {},
   "outputs": [],
   "source": [
    "df_query = influxdb_connector.query_field(measurement, field, start, stop)"
   ]
  },
  {
   "cell_type": "code",
   "execution_count": 86,
   "metadata": {},
   "outputs": [],
   "source": [
    "df_query = influxdb_connector.query_field(measurement, field, start, stop, groupby_interval=\"30s\")"
   ]
  },
  {
   "cell_type": "code",
   "execution_count": 73,
   "metadata": {},
   "outputs": [
    {
     "name": "stdout",
     "output_type": "stream",
     "text": [
      "                                  temperature\n",
      "2023-04-07 18:57:36.948831+00:00    17.647745\n"
     ]
    }
   ],
   "source": [
    "mean = influxdb_connector.query_mean_field(measurement, field, start, stop)"
   ]
  },
  {
   "cell_type": "code",
   "execution_count": 81,
   "metadata": {},
   "outputs": [],
   "source": [
    "df_query = influxdb_connector.query_field(measurement, field, \"10m\", stop)"
   ]
  },
  {
   "cell_type": "code",
   "execution_count": 75,
   "metadata": {},
   "outputs": [
    {
     "data": {
      "text/plain": [
       "17.647744927823922"
      ]
     },
     "execution_count": 75,
     "metadata": {},
     "output_type": "execute_result"
    }
   ],
   "source": [
    "mean"
   ]
  },
  {
   "cell_type": "code",
   "execution_count": 45,
   "metadata": {},
   "outputs": [
    {
     "name": "stdout",
     "output_type": "stream",
     "text": [
      "SELECT temperature FROM homemonitor.autogen.bme688\n",
      "            WHERE time > now() -7d AND time < now() \n"
     ]
    }
   ],
   "source": [
    "print(query2)"
   ]
  },
  {
   "cell_type": "code",
   "execution_count": 47,
   "metadata": {},
   "outputs": [
    {
     "data": {
      "text/html": [
       "<div>\n",
       "<style scoped>\n",
       "    .dataframe tbody tr th:only-of-type {\n",
       "        vertical-align: middle;\n",
       "    }\n",
       "\n",
       "    .dataframe tbody tr th {\n",
       "        vertical-align: top;\n",
       "    }\n",
       "\n",
       "    .dataframe thead th {\n",
       "        text-align: right;\n",
       "    }\n",
       "</style>\n",
       "<table border=\"1\" class=\"dataframe\">\n",
       "  <thead>\n",
       "    <tr style=\"text-align: right;\">\n",
       "      <th></th>\n",
       "      <th>_time</th>\n",
       "      <th>temperature</th>\n",
       "    </tr>\n",
       "  </thead>\n",
       "  <tbody>\n",
       "    <tr>\n",
       "      <th>0</th>\n",
       "      <td>2023-04-07 20:48:57.651654+02:00</td>\n",
       "      <td>18.29</td>\n",
       "    </tr>\n",
       "    <tr>\n",
       "      <th>1</th>\n",
       "      <td>2023-04-07 20:49:27.656088+02:00</td>\n",
       "      <td>18.28</td>\n",
       "    </tr>\n",
       "    <tr>\n",
       "      <th>2</th>\n",
       "      <td>2023-04-07 20:49:57.654600+02:00</td>\n",
       "      <td>18.29</td>\n",
       "    </tr>\n",
       "    <tr>\n",
       "      <th>3</th>\n",
       "      <td>2023-04-07 20:50:27.657079+02:00</td>\n",
       "      <td>18.29</td>\n",
       "    </tr>\n",
       "    <tr>\n",
       "      <th>4</th>\n",
       "      <td>2023-04-07 20:50:57.658990+02:00</td>\n",
       "      <td>18.29</td>\n",
       "    </tr>\n",
       "    <tr>\n",
       "      <th>...</th>\n",
       "      <td>...</td>\n",
       "      <td>...</td>\n",
       "    </tr>\n",
       "    <tr>\n",
       "      <th>20155</th>\n",
       "      <td>2023-04-14 20:46:53.936607+02:00</td>\n",
       "      <td>17.76</td>\n",
       "    </tr>\n",
       "    <tr>\n",
       "      <th>20156</th>\n",
       "      <td>2023-04-14 20:47:23.950885+02:00</td>\n",
       "      <td>17.75</td>\n",
       "    </tr>\n",
       "    <tr>\n",
       "      <th>20157</th>\n",
       "      <td>2023-04-14 20:47:53.951299+02:00</td>\n",
       "      <td>17.74</td>\n",
       "    </tr>\n",
       "    <tr>\n",
       "      <th>20158</th>\n",
       "      <td>2023-04-14 20:48:23.953750+02:00</td>\n",
       "      <td>17.73</td>\n",
       "    </tr>\n",
       "    <tr>\n",
       "      <th>20159</th>\n",
       "      <td>2023-04-14 20:48:53.956829+02:00</td>\n",
       "      <td>17.72</td>\n",
       "    </tr>\n",
       "  </tbody>\n",
       "</table>\n",
       "<p>20160 rows × 2 columns</p>\n",
       "</div>"
      ],
      "text/plain": [
       "                                 _time  temperature\n",
       "0     2023-04-07 20:48:57.651654+02:00        18.29\n",
       "1     2023-04-07 20:49:27.656088+02:00        18.28\n",
       "2     2023-04-07 20:49:57.654600+02:00        18.29\n",
       "3     2023-04-07 20:50:27.657079+02:00        18.29\n",
       "4     2023-04-07 20:50:57.658990+02:00        18.29\n",
       "...                                ...          ...\n",
       "20155 2023-04-14 20:46:53.936607+02:00        17.76\n",
       "20156 2023-04-14 20:47:23.950885+02:00        17.75\n",
       "20157 2023-04-14 20:47:53.951299+02:00        17.74\n",
       "20158 2023-04-14 20:48:23.953750+02:00        17.73\n",
       "20159 2023-04-14 20:48:53.956829+02:00        17.72\n",
       "\n",
       "[20160 rows x 2 columns]"
      ]
     },
     "execution_count": 47,
     "metadata": {},
     "output_type": "execute_result"
    }
   ],
   "source": [
    "df_query"
   ]
  }
 ],
 "metadata": {
  "kernelspec": {
   "display_name": "py39_hmd",
   "language": "python",
   "name": "python3"
  },
  "language_info": {
   "codemirror_mode": {
    "name": "ipython",
    "version": 3
   },
   "file_extension": ".py",
   "mimetype": "text/x-python",
   "name": "python",
   "nbconvert_exporter": "python",
   "pygments_lexer": "ipython3",
   "version": "3.9.16"
  },
  "orig_nbformat": 4,
  "vscode": {
   "interpreter": {
    "hash": "c00e92963da53b9af90e3646c2892a1783daf4a93f398441e064c5ee7fb0705b"
   }
  }
 },
 "nbformat": 4,
 "nbformat_minor": 2
}
